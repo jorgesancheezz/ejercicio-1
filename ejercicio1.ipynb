{
  "nbformat": 4,
  "nbformat_minor": 0,
  "metadata": {
    "colab": {
      "provenance": [],
      "authorship_tag": "ABX9TyOMo0CcPEF7tCKkQujJT8w1",
      "include_colab_link": true
    },
    "kernelspec": {
      "name": "python3",
      "display_name": "Python 3"
    },
    "language_info": {
      "name": "python"
    }
  },
  "cells": [
    {
      "cell_type": "markdown",
      "metadata": {
        "id": "view-in-github",
        "colab_type": "text"
      },
      "source": [
        "<a href=\"https://colab.research.google.com/github/jorgesancheezz/ejercicio-1/blob/main/ejercicio1.ipynb\" target=\"_parent\"><img src=\"https://colab.research.google.com/assets/colab-badge.svg\" alt=\"Open In Colab\"/></a>"
      ]
    },
    {
      "cell_type": "code",
      "execution_count": null,
      "metadata": {
        "id": "fN6dscvDgpRc"
      },
      "outputs": [],
      "source": [
        "import numpy as np\n",
        "\n",
        "def calculate(lst):\n",
        "    if len(lst) != 9:\n",
        "        raise ValueError(\"La lista debe contener nueve números\")\n",
        "\n",
        "    matrix = np.array(lst).reshape(3, 3)\n",
        "\n",
        "    calculations = {\n",
        "        'mean': [matrix.mean(axis=0).tolist(), matrix.mean(axis=1).tolist(), matrix.mean().tolist()],\n",
        "        'variance': [matrix.var(axis=0).tolist(), matrix.var(axis=1).tolist(), matrix.var().tolist()],\n",
        "        'standard deviation': [matrix.std(axis=0).tolist(), matrix.std(axis=1).tolist(), matrix.std().tolist()],\n",
        "        'max': [matrix.max(axis=0).tolist(), matrix.max(axis=1).tolist(), matrix.max().tolist()],\n",
        "        'min': [matrix.min(axis=0).tolist(), matrix.min(axis=1).tolist(), matrix.min().tolist()],\n",
        "        'sum': [matrix.sum(axis=0).tolist(), matrix.sum(axis=1).tolist(), matrix.sum().tolist()]\n",
        "    }\n",
        "\n",
        "    return calculations\n"
      ]
    },
    {
      "cell_type": "markdown",
      "source": [
        "Prueba\n"
      ],
      "metadata": {
        "id": "V2hzPzachEWA"
      }
    },
    {
      "cell_type": "code",
      "source": [
        "result = calculate([0,1,2,3,4,5,6,7,8])\n",
        "for key, value in result.items():\n",
        "    print(f\"{key}: {value}\")"
      ],
      "metadata": {
        "colab": {
          "base_uri": "https://localhost:8080/"
        },
        "id": "6fE_8fnhhigH",
        "outputId": "1b8d62de-cc75-438d-adb7-01ca02f421f5"
      },
      "execution_count": null,
      "outputs": [
        {
          "output_type": "stream",
          "name": "stdout",
          "text": [
            "mean: [[3.0, 4.0, 5.0], [1.0, 4.0, 7.0], 4.0]\n",
            "variance: [[6.0, 6.0, 6.0], [0.6666666666666666, 0.6666666666666666, 0.6666666666666666], 6.666666666666667]\n",
            "standard deviation: [[2.449489742783178, 2.449489742783178, 2.449489742783178], [0.816496580927726, 0.816496580927726, 0.816496580927726], 2.581988897471611]\n",
            "max: [[6, 7, 8], [2, 5, 8], 8]\n",
            "min: [[0, 1, 2], [0, 3, 6], 0]\n",
            "sum: [[9, 12, 15], [3, 12, 21], 36]\n"
          ]
        }
      ]
    }
  ]
}